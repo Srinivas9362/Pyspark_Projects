{
 "cells": [
  {
   "cell_type": "code",
   "execution_count": 0,
   "metadata": {
    "application/vnd.databricks.v1+cell": {
     "cellMetadata": {
      "byteLimit": 2048000,
      "rowLimit": 10000
     },
     "inputWidgets": {},
     "nuid": "b51f6d1e-7c45-43ae-bfaa-3690a7d6389a",
     "showTitle": false,
     "tableResultSettingsMap": {},
     "title": ""
    }
   },
   "outputs": [],
   "source": [
    "from pyspark.sql.functions import *\n",
    "from pyspark.sql.types import *"
   ]
  },
  {
   "cell_type": "code",
   "execution_count": 0,
   "metadata": {
    "application/vnd.databricks.v1+cell": {
     "cellMetadata": {
      "byteLimit": 2048000,
      "rowLimit": 10000
     },
     "inputWidgets": {},
     "nuid": "a52de048-fe34-4a65-8003-cdf94638fb4e",
     "showTitle": false,
     "tableResultSettingsMap": {},
     "title": ""
    }
   },
   "outputs": [],
   "source": [
    "df = spark.read.format(\"delta\")\\\n",
    "    .load(\"/Volumes/workspace/bronze/bronzevolume/bookings/data/\")\n",
    "\n",
    "df.display()"
   ]
  },
  {
   "cell_type": "code",
   "execution_count": 0,
   "metadata": {
    "application/vnd.databricks.v1+cell": {
     "cellMetadata": {
      "byteLimit": 2048000,
      "rowLimit": 10000
     },
     "inputWidgets": {},
     "nuid": "f8433962-23f6-4655-8057-c2d64aa9aa9c",
     "showTitle": false,
     "tableResultSettingsMap": {},
     "title": ""
    }
   },
   "outputs": [],
   "source": [
    "df = df.withColumn('amount', col(\"amount\").cast(\"double\"))\\\n",
    "    .withColumn(\"modified_date\", current_timestamp())\\\n",
    "    .withColumn(\"booking_date\", to_date(\"booking_date\"))\\\n",
    "    .drop(\"_rescued_data\")\n",
    "\n",
    "df.display()"
   ]
  },
  {
   "cell_type": "code",
   "execution_count": 0,
   "metadata": {
    "application/vnd.databricks.v1+cell": {
     "cellMetadata": {
      "byteLimit": 2048000,
      "rowLimit": 10000
     },
     "inputWidgets": {},
     "nuid": "3caedec3-696d-42bd-95a1-9d0697f12265",
     "showTitle": false,
     "tableResultSettingsMap": {},
     "title": ""
    }
   },
   "outputs": [],
   "source": [
    "import dlt\n",
    "\n",
    "@dlt.table(\n",
    "  name=\"Stage_bookings\"\n",
    ")\n",
    "def stage_bookings():\n",
    "    df = spark.readStream.format(\"delta\")\\\n",
    "        .load('/Volumes/workspace/bronze/bronzevolume/bookings/data/')\n",
    "    return df\n",
    "\n",
    "\n",
    "@dlt.view(\n",
    "    name=\"trans_bookings\"\n",
    ")\n",
    "def trans_bookings():\n",
    "    df = spark.readStream.table(\"stage_bookings\")\n",
    "    df = df.withColumn('amount', col(\"amount\").cast(\"double\"))\\\n",
    "        .withColumn(\"modified_date\", current_timestamp())\\\n",
    "        .withColumn(\"booking_date\", to_date(\"booking_date\"))\\\n",
    "        .drop(\"_rescued_data\")\n",
    "    \n",
    "    return df\n",
    "\n",
    "rules = {\n",
    "    \"rule1\":\"booking_id IS NOT NULL\",\n",
    "    \"rule2\":\"passenger_id IS NOT NULL\"\n",
    "}\n",
    "\n",
    "@dlt.table(\n",
    "    name='silver_bookings'\n",
    ")\n",
    "@dlt.except_all_or_drop(rules)\n",
    "def silver_bookings():\n",
    "    df = spark.readStream.table(\"trans_bookings\")\n",
    "    #or we can use the below one as well\n",
    "    # df =dlt.read(\"trans_bookings\")\n",
    "    return df"
   ]
  },
  {
   "cell_type": "code",
   "execution_count": 0,
   "metadata": {
    "application/vnd.databricks.v1+cell": {
     "cellMetadata": {
      "byteLimit": 2048000,
      "implicitDf": true,
      "rowLimit": 10000
     },
     "inputWidgets": {},
     "nuid": "5e7c8baf-f341-4f7d-ad89-326df9c4257e",
     "showTitle": false,
     "tableResultSettingsMap": {},
     "title": ""
    }
   },
   "outputs": [],
   "source": [
    "%sql\n",
    "SELECT * FROM workspace.silver.silver_bookings;"
   ]
  },
  {
   "cell_type": "code",
   "execution_count": 0,
   "metadata": {
    "application/vnd.databricks.v1+cell": {
     "cellMetadata": {
      "byteLimit": 2048000,
      "implicitDf": true,
      "rowLimit": 10000
     },
     "inputWidgets": {},
     "nuid": "58adb53d-c86b-44d2-80e9-3ae556805301",
     "showTitle": false,
     "tableResultSettingsMap": {},
     "title": ""
    }
   },
   "outputs": [],
   "source": [
    "%sql\n",
    "SELECT * FROM workspace.silver.stage_bookings"
   ]
  },
  {
   "cell_type": "code",
   "execution_count": 0,
   "metadata": {
    "application/vnd.databricks.v1+cell": {
     "cellMetadata": {
      "byteLimit": 2048000,
      "implicitDf": true,
      "rowLimit": 10000
     },
     "inputWidgets": {},
     "nuid": "0ae9c1d4-ffd8-4696-8080-f6c1a58cee75",
     "showTitle": false,
     "tableResultSettingsMap": {},
     "title": ""
    }
   },
   "outputs": [],
   "source": [
    "%sql\n",
    "select * from workspace.silver.trans_bookings"
   ]
  },
  {
   "cell_type": "code",
   "execution_count": 0,
   "metadata": {
    "application/vnd.databricks.v1+cell": {
     "cellMetadata": {},
     "inputWidgets": {},
     "nuid": "240c55ad-60ab-4494-b2fe-23cb918ddeb4",
     "showTitle": false,
     "tableResultSettingsMap": {},
     "title": ""
    }
   },
   "outputs": [],
   "source": []
  }
 ],
 "metadata": {
  "application/vnd.databricks.v1+notebook": {
   "computePreferences": null,
   "dashboards": [],
   "environmentMetadata": {
    "base_environment": "",
    "environment_version": "2"
   },
   "inputWidgetPreferences": null,
   "language": "python",
   "notebookMetadata": {
    "mostRecentlyExecutedCommandWithImplicitDF": {
     "commandId": 8946032943121116,
     "dataframes": [
      "_sqldf"
     ]
    },
    "pythonIndentUnit": 4
   },
   "notebookName": "Silver_NoteBook",
   "widgets": {}
  },
  "language_info": {
   "name": "python"
  }
 },
 "nbformat": 4,
 "nbformat_minor": 0
}
